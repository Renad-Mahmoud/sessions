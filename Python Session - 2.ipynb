{
 "cells": [
  {
   "cell_type": "markdown",
   "id": "e1aa6fd3",
   "metadata": {},
   "source": [
    "# Python Sessions with DEPI - session 2"
   ]
  },
  {
   "cell_type": "markdown",
   "id": "f7df43d7",
   "metadata": {},
   "source": [
    "### Slicing a List"
   ]
  },
  {
   "cell_type": "code",
   "execution_count": 1,
   "id": "3f59e1ea",
   "metadata": {
    "tags": []
   },
   "outputs": [
    {
     "name": "stdout",
     "output_type": "stream",
     "text": [
      "['mahmoud', 'ali', 'ahmed']\n",
      "['mahmoud', 'ali', 'ahmed', 'mohamed']\n"
     ]
    }
   ],
   "source": [
    "# Working with Part of a List\n",
    "names = ['mahmoud', 'ali', 'ahmed', 'mohamed']\n",
    "print(names[0:3])\n",
    "print(names[0:4])\n"
   ]
  },
  {
   "cell_type": "code",
   "execution_count": 2,
   "id": "34a784ec-f3eb-4ac8-af3d-195a30a868c8",
   "metadata": {},
   "outputs": [
    {
     "name": "stdout",
     "output_type": "stream",
     "text": [
      "<class 'list'>\n"
     ]
    }
   ],
   "source": [
    "names=list(('mahmoud', 'ali', 'ahmed', 'mohamed'))\n",
    "print(type(names))"
   ]
  },
  {
   "cell_type": "code",
   "execution_count": 3,
   "id": "2428da56",
   "metadata": {
    "tags": []
   },
   "outputs": [
    {
     "data": {
      "text/plain": [
       "'mohamed'"
      ]
     },
     "execution_count": 3,
     "metadata": {},
     "output_type": "execute_result"
    }
   ],
   "source": [
    "names[-1]"
   ]
  },
  {
   "cell_type": "code",
   "execution_count": 4,
   "id": "fa656737",
   "metadata": {
    "tags": []
   },
   "outputs": [
    {
     "name": "stdout",
     "output_type": "stream",
     "text": [
      "['mahmoud', 'ali', 'ahmed', 'mohamed']\n",
      "['ahmed', 'mohamed']\n",
      "['ali', 'ahmed', 'mohamed']\n",
      "['ali']\n"
     ]
    }
   ],
   "source": [
    "names = ['mahmoud', 'ali', 'ahmed', 'mohamed']\n",
    "\n",
    "print(names[:4])\n",
    "print(names[2:])\n",
    "print(names[-3:])\n",
    "print(names[-3:-2])"
   ]
  },
  {
   "cell_type": "code",
   "execution_count": 5,
   "id": "7c285ac1",
   "metadata": {
    "tags": []
   },
   "outputs": [
    {
     "name": "stdout",
     "output_type": "stream",
     "text": [
      "mahmoud\n",
      "ali\n",
      "ahmed\n",
      "mohamed\n"
     ]
    }
   ],
   "source": [
    "#Looping Through a Slice\n",
    "names = ['mahmoud', 'ali', 'ahmed', 'mohamed']\n",
    "\n",
    "for name in names:\n",
    "    print(name)\n"
   ]
  },
  {
   "cell_type": "code",
   "execution_count": 6,
   "id": "dc591dab",
   "metadata": {
    "tags": []
   },
   "outputs": [
    {
     "name": "stdout",
     "output_type": "stream",
     "text": [
      "['pizza', 'falafel', 'cake']\n",
      "['pizza', 'falafel', 'cake']\n"
     ]
    }
   ],
   "source": [
    "# Copying a List\n",
    "\n",
    "my_foods = ['pizza', 'falafel', 'cake']\n",
    "\n",
    "friend_foods = my_foods\n",
    "print(my_foods)\n",
    "print(friend_foods)"
   ]
  },
  {
   "cell_type": "markdown",
   "id": "bb27ad0e",
   "metadata": {},
   "source": [
    "#### Tuples\n",
    "Python refers to values that cannot change as immutable, and an immutable list is called a tuple."
   ]
  },
  {
   "cell_type": "code",
   "execution_count": 7,
   "id": "42cb7383",
   "metadata": {
    "tags": []
   },
   "outputs": [
    {
     "name": "stdout",
     "output_type": "stream",
     "text": [
      "[250, 20]\n"
     ]
    }
   ],
   "source": [
    "my_list = [10, 20]\n",
    "my_list[0] = 250\n",
    "print(my_list)"
   ]
  },
  {
   "cell_type": "code",
   "execution_count": 8,
   "id": "fb398f9c",
   "metadata": {
    "tags": []
   },
   "outputs": [
    {
     "name": "stdout",
     "output_type": "stream",
     "text": [
      "200\n"
     ]
    }
   ],
   "source": [
    "dimensions = (200, 50) \n",
    "print(dimensions[0])"
   ]
  },
  {
   "cell_type": "code",
   "execution_count": 9,
   "id": "d0d3cfe7",
   "metadata": {},
   "outputs": [
    {
     "name": "stdout",
     "output_type": "stream",
     "text": [
      "<class 'tuple'>\n"
     ]
    }
   ],
   "source": [
    "print(type(dimensions))"
   ]
  },
  {
   "cell_type": "markdown",
   "id": "65a324eb",
   "metadata": {},
   "source": [
    "You can not modify the values in tuples "
   ]
  },
  {
   "cell_type": "code",
   "execution_count": 10,
   "id": "2b08b7c1",
   "metadata": {
    "tags": []
   },
   "outputs": [
    {
     "ename": "TypeError",
     "evalue": "'tuple' object does not support item assignment",
     "output_type": "error",
     "traceback": [
      "\u001b[1;31m---------------------------------------------------------------------------\u001b[0m",
      "\u001b[1;31mTypeError\u001b[0m                                 Traceback (most recent call last)",
      "Cell \u001b[1;32mIn[10], line 1\u001b[0m\n\u001b[1;32m----> 1\u001b[0m \u001b[43mdimensions\u001b[49m\u001b[43m[\u001b[49m\u001b[38;5;241;43m0\u001b[39;49m\u001b[43m]\u001b[49m \u001b[38;5;241m=\u001b[39m \u001b[38;5;241m250\u001b[39m\n",
      "\u001b[1;31mTypeError\u001b[0m: 'tuple' object does not support item assignment"
     ]
    }
   ],
   "source": [
    "dimensions[0] = 250"
   ]
  },
  {
   "cell_type": "code",
   "execution_count": 12,
   "id": "33ba34c2-ec1f-4845-8ff9-40c14f065f66",
   "metadata": {},
   "outputs": [
    {
     "name": "stdout",
     "output_type": "stream",
     "text": [
      "MyList: ['25', '6']\n",
      "MyTuple: ('25', '6')\n",
      "<class 'list'>\n"
     ]
    }
   ],
   "source": [
    "numbers = input(\"Enter a sequence of comma-separated numbers: \")\n",
    " \n",
    "# Convert the input string to a list\n",
    "number_list = numbers.split(\",\")\n",
    " \n",
    "# Convert the list to a tuple\n",
    "number_tuple = tuple(number_list)\n",
    " \n",
    "# Print the results\n",
    "print(\"MyList:\", number_list)\n",
    "print(\"MyTuple:\", number_tuple)\n",
    "print(type(number_list))"
   ]
  },
  {
   "cell_type": "code",
   "execution_count": 13,
   "id": "425113a4-2096-47ca-972d-4d823d95f214",
   "metadata": {},
   "outputs": [
    {
     "name": "stdout",
     "output_type": "stream",
     "text": [
      "List: [4, 6]\n",
      "Tuple: (4, 6)\n"
     ]
    }
   ],
   "source": [
    "numbers_input = input(\"Enter a sequence of comma-separated numbers: \")\n",
    " \n",
    "numbers_list = numbers_input.split(\",\")\n",
    " \n",
    "numbers_list = [int(num.strip()) for num in numbers_list]\n",
    " \n",
    "numbers_tuple = tuple(numbers_list)\n",
    " \n",
    "print(\"List:\", numbers_list)\n",
    "print(\"Tuple:\", numbers_tuple)"
   ]
  },
  {
   "cell_type": "code",
   "execution_count": 14,
   "id": "0c5f1964-c3b3-474f-b5fa-7191a6b6462c",
   "metadata": {},
   "outputs": [
    {
     "name": "stdout",
     "output_type": "stream",
     "text": [
      "['3', '7', '9', '0']\n"
     ]
    }
   ],
   "source": [
    "x = input(\"enter your list seperated by commas\")\n",
    "list1=[]\n",
    "for i in x.split(','):\n",
    "    list1.append(i)\n",
    "print(list1)"
   ]
  },
  {
   "cell_type": "code",
   "execution_count": 15,
   "id": "77fc1bf4-155b-4e77-8c17-2dbfcb7fb4df",
   "metadata": {},
   "outputs": [
    {
     "name": "stdout",
     "output_type": "stream",
     "text": [
      "('a', 3, True, 'b')\n"
     ]
    }
   ],
   "source": [
    "my_tuple=('a',3,True,'b')\n",
    "print(my_tuple)"
   ]
  },
  {
   "cell_type": "code",
   "execution_count": 16,
   "id": "76b17aa3-6102-48d8-8d68-5b3304d8744b",
   "metadata": {},
   "outputs": [
    {
     "name": "stdout",
     "output_type": "stream",
     "text": [
      "<class 'tuple'>\n"
     ]
    }
   ],
   "source": [
    "print(type(my_tuple))"
   ]
  },
  {
   "cell_type": "code",
   "execution_count": 17,
   "id": "de833b7a-ab4d-4fc3-bfae-2d0e0f9d1c4f",
   "metadata": {},
   "outputs": [
    {
     "name": "stdout",
     "output_type": "stream",
     "text": [
      "<class 'list'>\n",
      "<class 'tuple'>\n"
     ]
    }
   ],
   "source": [
    "my_list=list(my_tuple)\n",
    "print(type(my_list))\n",
    "v=tuple(my_list)\n",
    "print(type(v))"
   ]
  },
  {
   "cell_type": "code",
   "execution_count": 18,
   "id": "6943d295-ccb6-4fa1-9335-facb66469c25",
   "metadata": {},
   "outputs": [
    {
     "name": "stdout",
     "output_type": "stream",
     "text": [
      "4\n"
     ]
    }
   ],
   "source": [
    "print(len(my_tuple))"
   ]
  },
  {
   "cell_type": "code",
   "execution_count": 19,
   "id": "fa320d80-6bcc-4620-a37f-b4ad3d7233ae",
   "metadata": {},
   "outputs": [
    {
     "name": "stdout",
     "output_type": "stream",
     "text": [
      "('a', 3, 'c', 3, 3, 'x', 'y', True)\n"
     ]
    }
   ],
   "source": [
    "t1=('a',3,'c',3,3)\n",
    "t2=('x','y',True)\n",
    "print(t1+t2)"
   ]
  },
  {
   "cell_type": "code",
   "execution_count": 20,
   "id": "96a877b2-052f-45dc-8372-da7333f793c8",
   "metadata": {},
   "outputs": [
    {
     "name": "stdout",
     "output_type": "stream",
     "text": [
      "('a', 3, 'c', 3, 3, 'a', 3, 'c', 3, 3, 'a', 3, 'c', 3, 3)\n"
     ]
    }
   ],
   "source": [
    "print(t1*3)"
   ]
  },
  {
   "cell_type": "code",
   "execution_count": 21,
   "id": "fb341de9-1f89-40fb-87bf-41badc5ee8cb",
   "metadata": {},
   "outputs": [
    {
     "name": "stdout",
     "output_type": "stream",
     "text": [
      "1\n"
     ]
    }
   ],
   "source": [
    "print(t1.index(3))"
   ]
  },
  {
   "cell_type": "markdown",
   "id": "4a8e673e",
   "metadata": {},
   "source": [
    "### Dictionaries\n",
    "A dictionary in Python is a collection of key-value pairs. Each key is connected\n",
    "to a value, and you can use a key to access the value associated with that key.\n",
    "\n",
    "\n",
    "A key’s value can be a number, a string, a list, or even another dictionary.\n"
   ]
  },
  {
   "cell_type": "code",
   "execution_count": 22,
   "id": "be6b8505",
   "metadata": {
    "tags": []
   },
   "outputs": [
    {
     "name": "stdout",
     "output_type": "stream",
     "text": [
      "Ali\n",
      "25\n"
     ]
    }
   ],
   "source": [
    "user = {'Name': 'Ali',\n",
    "        'Age': 25}   \n",
    "\n",
    "print(user['Name'])\n",
    "print(user['Age'])\n"
   ]
  },
  {
   "cell_type": "code",
   "execution_count": null,
   "id": "cc32ced4",
   "metadata": {
    "tags": []
   },
   "outputs": [],
   "source": [
    "print(user2['ID'])"
   ]
  },
  {
   "cell_type": "code",
   "execution_count": 23,
   "id": "ee42d31b",
   "metadata": {
    "tags": []
   },
   "outputs": [
    {
     "name": "stdout",
     "output_type": "stream",
     "text": [
      "{'Name': 'Ali', 'Age': 25, 'Address': 'Egypt', 'weight': 70}\n"
     ]
    }
   ],
   "source": [
    "# Adding New Key-Value Pairs\n",
    "\n",
    "user = {'Name': 'Ali', 'Age': 25}\n",
    "\n",
    "user['Address'] = 'Egypt'\n",
    "user['weight'] =  70\n",
    "print(user)"
   ]
  },
  {
   "cell_type": "code",
   "execution_count": 24,
   "id": "4e54b3e8",
   "metadata": {},
   "outputs": [
    {
     "ename": "KeyError",
     "evalue": "'Ali'",
     "output_type": "error",
     "traceback": [
      "\u001b[1;31m---------------------------------------------------------------------------\u001b[0m",
      "\u001b[1;31mKeyError\u001b[0m                                  Traceback (most recent call last)",
      "Cell \u001b[1;32mIn[24], line 1\u001b[0m\n\u001b[1;32m----> 1\u001b[0m \u001b[43muser\u001b[49m\u001b[43m[\u001b[49m\u001b[38;5;124;43m'\u001b[39;49m\u001b[38;5;124;43mAli\u001b[39;49m\u001b[38;5;124;43m'\u001b[39;49m\u001b[43m]\u001b[49m\n",
      "\u001b[1;31mKeyError\u001b[0m: 'Ali'"
     ]
    }
   ],
   "source": [
    "user['Ali']"
   ]
  },
  {
   "cell_type": "code",
   "execution_count": null,
   "id": "14705853",
   "metadata": {},
   "outputs": [],
   "source": [
    "# Modifying Values in a Dictionary\n",
    "user['Address'] = 'USA'"
   ]
  },
  {
   "cell_type": "code",
   "execution_count": 25,
   "id": "20310710",
   "metadata": {
    "tags": []
   },
   "outputs": [
    {
     "data": {
      "text/plain": [
       "{'Name': 'Ali', 'Age': 25, 'Address': 'Egypt', 'weight': 70}"
      ]
     },
     "execution_count": 25,
     "metadata": {},
     "output_type": "execute_result"
    }
   ],
   "source": [
    "user"
   ]
  },
  {
   "cell_type": "code",
   "execution_count": 26,
   "id": "81b82354",
   "metadata": {
    "tags": []
   },
   "outputs": [
    {
     "data": {
      "text/plain": [
       "{'Name': 'Ali', 'Age': 25, 'weight': 70}"
      ]
     },
     "execution_count": 26,
     "metadata": {},
     "output_type": "execute_result"
    }
   ],
   "source": [
    "# Removing Key-Value Pairs\n",
    "del user['Address']\n",
    "user "
   ]
  },
  {
   "cell_type": "code",
   "execution_count": 27,
   "id": "e135ed36",
   "metadata": {
    "tags": []
   },
   "outputs": [
    {
     "name": "stdout",
     "output_type": "stream",
     "text": [
      "c++\n",
      "ruby\n"
     ]
    }
   ],
   "source": [
    "# A Dictionary of Similar Objects\n",
    "favorite_languages = {\n",
    "'mohamed': 'python',\n",
    "'ola': 'c',\n",
    "'emad': 'ruby',\n",
    "'sara': 'c++',\n",
    "}\n",
    "print(favorite_languages['sara'])\n",
    "print(favorite_languages['emad'])\n"
   ]
  },
  {
   "cell_type": "code",
   "execution_count": 28,
   "id": "6010ff20",
   "metadata": {},
   "outputs": [
    {
     "data": {
      "text/plain": [
       "{'mohamed': 'python', 'ola': 'c', 'emad': 'ruby', 'sara': 'c++'}"
      ]
     },
     "execution_count": 28,
     "metadata": {},
     "output_type": "execute_result"
    }
   ],
   "source": [
    "favorite_languages"
   ]
  },
  {
   "cell_type": "code",
   "execution_count": 29,
   "id": "cd5a703e",
   "metadata": {
    "tags": []
   },
   "outputs": [
    {
     "name": "stdout",
     "output_type": "stream",
     "text": [
      "ruby\n"
     ]
    }
   ],
   "source": [
    "emad_value = favorite_languages.get('emad')\n",
    "print(emad_value)"
   ]
  },
  {
   "cell_type": "code",
   "execution_count": 30,
   "id": "7d9cc5a9",
   "metadata": {
    "tags": []
   },
   "outputs": [],
   "source": [
    "user = {'Name': 'Ali',\n",
    "        'Age': 25}"
   ]
  },
  {
   "cell_type": "code",
   "execution_count": 31,
   "id": "4d6626fc",
   "metadata": {
    "tags": []
   },
   "outputs": [
    {
     "name": "stdout",
     "output_type": "stream",
     "text": [
      "\n",
      "Key: Name\n",
      "Value: Ali\n",
      "\n",
      "Key: Age\n",
      "Value: 25\n"
     ]
    }
   ],
   "source": [
    "#Looping Through a Dictionary\n",
    "for a, b in user.items():\n",
    "    print(f\"\\nKey: {a}\")\n",
    "    print(f\"Value: {b}\")\n",
    "\n",
    "    "
   ]
  },
  {
   "cell_type": "code",
   "execution_count": 32,
   "id": "13bf45d6",
   "metadata": {},
   "outputs": [
    {
     "name": "stdout",
     "output_type": "stream",
     "text": [
      "\n",
      "Key: {a}\n"
     ]
    }
   ],
   "source": [
    "print(\"\\nKey: {a}\")"
   ]
  },
  {
   "cell_type": "code",
   "execution_count": 33,
   "id": "64543af1",
   "metadata": {},
   "outputs": [
    {
     "name": "stdout",
     "output_type": "stream",
     "text": [
      "Key: {a}\n"
     ]
    }
   ],
   "source": [
    "print(\"Key: {a}\")"
   ]
  },
  {
   "cell_type": "code",
   "execution_count": 34,
   "id": "0e180e3e",
   "metadata": {},
   "outputs": [
    {
     "data": {
      "text/plain": [
       "{'Name': 'Ali', 'Age': 25}"
      ]
     },
     "execution_count": 34,
     "metadata": {},
     "output_type": "execute_result"
    }
   ],
   "source": [
    "user"
   ]
  },
  {
   "cell_type": "code",
   "execution_count": 35,
   "id": "fbf8c791",
   "metadata": {
    "tags": []
   },
   "outputs": [
    {
     "name": "stdout",
     "output_type": "stream",
     "text": [
      "Name\n",
      "Age\n"
     ]
    }
   ],
   "source": [
    "for name in user.keys():\n",
    "    print(name)\n"
   ]
  },
  {
   "cell_type": "code",
   "execution_count": 36,
   "id": "55bd8443",
   "metadata": {
    "tags": []
   },
   "outputs": [
    {
     "name": "stdout",
     "output_type": "stream",
     "text": [
      "Ali\n",
      "25\n"
     ]
    }
   ],
   "source": [
    "for name in user.values():\n",
    "    print(name)\n"
   ]
  },
  {
   "cell_type": "markdown",
   "id": "1fda40dd",
   "metadata": {},
   "source": [
    "### if Statements"
   ]
  },
  {
   "cell_type": "code",
   "execution_count": 37,
   "id": "bea308c6",
   "metadata": {
    "tags": []
   },
   "outputs": [
    {
     "name": "stdout",
     "output_type": "stream",
     "text": [
      "True\n"
     ]
    }
   ],
   "source": [
    "age = 17\n",
    "\n",
    "print(age == 17)"
   ]
  },
  {
   "cell_type": "markdown",
   "id": "5f8fdf13",
   "metadata": {},
   "source": [
    "A single equal sign is really a statement; you might read the code as “Set the value of age equal to 19.” \n",
    "\n",
    "\n",
    "On the other hand, a double equal sign (==) , asks a question: “Is the value of age equal to 17?”\n",
    "\n"
   ]
  },
  {
   "cell_type": "code",
   "execution_count": 38,
   "id": "83d8a27b",
   "metadata": {
    "tags": []
   },
   "outputs": [
    {
     "name": "stdout",
     "output_type": "stream",
     "text": [
      "You can vote!\n"
     ]
    }
   ],
   "source": [
    "age = 15\n",
    "if age == 15:\n",
    "    print(\"You can vote!\")"
   ]
  },
  {
   "cell_type": "code",
   "execution_count": 39,
   "id": "18e69649",
   "metadata": {
    "tags": []
   },
   "outputs": [
    {
     "name": "stdout",
     "output_type": "stream",
     "text": [
      "You can not vote!\n"
     ]
    }
   ],
   "source": [
    "age = 19\n",
    "if age != 15:\n",
    "    print(\"You can not vote!\")\n"
   ]
  },
  {
   "cell_type": "code",
   "execution_count": 40,
   "id": "cf18b54d",
   "metadata": {
    "tags": []
   },
   "outputs": [
    {
     "name": "stdout",
     "output_type": "stream",
     "text": [
      "True\n",
      "False\n"
     ]
    }
   ],
   "source": [
    "# Checking Whether a Value Is in a List\n",
    "names = ['Ali', 'mohamed', 'mona']\n",
    "print('mona' in names)\n",
    "print('ahmed' in names)\n"
   ]
  },
  {
   "cell_type": "code",
   "execution_count": 41,
   "id": "f7f9b853",
   "metadata": {
    "tags": []
   },
   "outputs": [
    {
     "name": "stdout",
     "output_type": "stream",
     "text": [
      "max is not in the banned users list\n"
     ]
    }
   ],
   "source": [
    "# Checking Whether a Value Is Not in a List\n",
    "\n",
    "banned_users = ['Ali', 'mohamed', 'mona']\n",
    "user = 'max'\n",
    "if user not in banned_users:\n",
    "    print(f\"{user} is not in the banned users list\")\n",
    "    "
   ]
  },
  {
   "cell_type": "code",
   "execution_count": null,
   "id": "bdda2ef5",
   "metadata": {},
   "outputs": [],
   "source": []
  },
  {
   "cell_type": "code",
   "execution_count": null,
   "id": "03721e4d",
   "metadata": {},
   "outputs": [],
   "source": []
  },
  {
   "cell_type": "code",
   "execution_count": 42,
   "id": "4abbf49b",
   "metadata": {
    "tags": []
   },
   "outputs": [
    {
     "name": "stdout",
     "output_type": "stream",
     "text": [
      "Samy\n",
      "BMW\n",
      "Mona\n",
      "Toyota\n"
     ]
    }
   ],
   "source": [
    "# if-else Statements\n",
    "my_list = ['samy', 'bmw', 'mona', 'toyota']\n",
    "\n",
    "for i in my_list:\n",
    "    if i == 'bmw':\n",
    "       print(i.upper())\n",
    "    else:\n",
    "       print(i.title())\n"
   ]
  },
  {
   "cell_type": "code",
   "execution_count": 43,
   "id": "a7179b79",
   "metadata": {},
   "outputs": [],
   "source": [
    "# Boolean Expressions\n",
    "active = True\n",
    "offline = False"
   ]
  },
  {
   "cell_type": "code",
   "execution_count": 44,
   "id": "c561a570",
   "metadata": {},
   "outputs": [
    {
     "name": "stdout",
     "output_type": "stream",
     "text": [
      "your offer is 30%\n"
     ]
    }
   ],
   "source": [
    "# The if-elif-else Chain\n",
    "age = 20\n",
    "\n",
    "if age < 30:\n",
    "   print(\"your offer is 30%\")\n",
    "elif age < 50:\n",
    "   print(\"your offer is 50%\")\n",
    "else:\n",
    "   print(\"your offer is 60%\")\n"
   ]
  },
  {
   "cell_type": "code",
   "execution_count": 45,
   "id": "1cb4ca01",
   "metadata": {
    "tags": []
   },
   "outputs": [
    {
     "name": "stdout",
     "output_type": "stream",
     "text": [
      "your offer is 30%\n"
     ]
    }
   ],
   "source": [
    "# Using Multiple elif Blocks\n",
    "\n",
    "age = 20\n",
    "if age < 30:\n",
    "   print(\"your offer is 30%\")\n",
    "elif age < 50:\n",
    "   print(\"your offer is 50%\")\n",
    "elif age < 60:\n",
    "   print(\"your offer is 60%\")\n",
    "else:\n",
    "   print(\"your offer is 70%\")\n"
   ]
  },
  {
   "cell_type": "code",
   "execution_count": null,
   "id": "6f57b0b1",
   "metadata": {},
   "outputs": [],
   "source": []
  },
  {
   "cell_type": "code",
   "execution_count": 46,
   "id": "c2a917cd",
   "metadata": {
    "tags": []
   },
   "outputs": [
    {
     "name": "stdout",
     "output_type": "stream",
     "text": [
      "your offer is 30%\n"
     ]
    }
   ],
   "source": [
    "#Note, Python does not require an else block at the end of an if-elif chain.\n",
    "\n",
    "age = 20\n",
    "if age < 30:\n",
    "   print(\"your offer is 30%\")\n",
    "elif age < 50:\n",
    "   print(\"your offer is 50%\")\n",
    "elif age < 60:\n",
    "   print(\"your offer is 60%\")\n",
    "\n",
    "#No else statement.\n"
   ]
  },
  {
   "cell_type": "code",
   "execution_count": 47,
   "id": "e4dfbcd9",
   "metadata": {},
   "outputs": [
    {
     "name": "stdout",
     "output_type": "stream",
     "text": [
      "30\n"
     ]
    }
   ],
   "source": [
    "x = 10\n",
    "y = 20\n",
    "print(x+y)"
   ]
  },
  {
   "cell_type": "code",
   "execution_count": 48,
   "id": "6b31e812",
   "metadata": {
    "tags": []
   },
   "outputs": [
    {
     "name": "stdout",
     "output_type": "stream",
     "text": [
      "hi\n"
     ]
    }
   ],
   "source": [
    "# User Input\n",
    "message = input(\"Tell me something, and I will repeat it back to you: \")\n",
    "print(message)"
   ]
  },
  {
   "cell_type": "code",
   "execution_count": 49,
   "id": "e3173f27-4902-475e-89a0-5e1c8917c706",
   "metadata": {
    "tags": []
   },
   "outputs": [
    {
     "name": "stdout",
     "output_type": "stream",
     "text": [
      "[1, 2, 3, 4]\n"
     ]
    }
   ],
   "source": [
    "\n",
    "a = [1,2]\n",
    "b = [3,4]\n",
    "a += b\n",
    "print(a)"
   ]
  },
  {
   "cell_type": "code",
   "execution_count": 50,
   "id": "00647b4c",
   "metadata": {
    "tags": []
   },
   "outputs": [
    {
     "data": {
      "text/plain": [
       "'ali mohamed'"
      ]
     },
     "execution_count": 50,
     "metadata": {},
     "output_type": "execute_result"
    }
   ],
   "source": [
    "name = \"ali \"\n",
    "name += \"mohamed\"\n",
    "#name = name + \"mohamed\"\n",
    "name"
   ]
  },
  {
   "cell_type": "code",
   "execution_count": 54,
   "id": "b8406655",
   "metadata": {
    "tags": []
   },
   "outputs": [
    {
     "name": "stdout",
     "output_type": "stream",
     "text": [
      "\n",
      "Hello, renad!\n"
     ]
    }
   ],
   "source": [
    "prompt = \"If you tell us who you are, we can personalize the messages you see.\"\n",
    "prompt += \"\\nWhat is your first name? \"\n",
    "name = input(prompt)\n",
    "print(f\"\\nHello, {name}!\")\n"
   ]
  },
  {
   "cell_type": "code",
   "execution_count": 53,
   "id": "c2cd46df",
   "metadata": {
    "tags": []
   },
   "outputs": [
    {
     "name": "stdout",
     "output_type": "stream",
     "text": [
      "you can vote\n"
     ]
    }
   ],
   "source": [
    "age = int(input(\"How old are you? \")) \n",
    "\n",
    "if age >= 18 :\n",
    "    print('you can vote')\n"
   ]
  },
  {
   "cell_type": "code",
   "execution_count": null,
   "id": "ab756bc6",
   "metadata": {},
   "outputs": [],
   "source": []
  },
  {
   "cell_type": "code",
   "execution_count": 55,
   "id": "094acada",
   "metadata": {
    "tags": []
   },
   "outputs": [
    {
     "name": "stdout",
     "output_type": "stream",
     "text": [
      "<class 'str'>\n"
     ]
    }
   ],
   "source": [
    "#When you use the input()  function, Python interprets everything the user enters as a string.\n",
    "\n",
    "age = input(\"How old are you? \")\n",
    "print(type(age))"
   ]
  },
  {
   "cell_type": "code",
   "execution_count": 56,
   "id": "0b4d5eba",
   "metadata": {
    "tags": []
   },
   "outputs": [
    {
     "ename": "ValueError",
     "evalue": "invalid literal for int() with base 10: ''",
     "output_type": "error",
     "traceback": [
      "\u001b[1;31m---------------------------------------------------------------------------\u001b[0m",
      "\u001b[1;31mValueError\u001b[0m                                Traceback (most recent call last)",
      "Cell \u001b[1;32mIn[56], line 4\u001b[0m\n\u001b[0;32m      1\u001b[0m \u001b[38;5;66;03m#Using int() to Accept Numeric Input\u001b[39;00m\n\u001b[0;32m      3\u001b[0m age \u001b[38;5;241m=\u001b[39m \u001b[38;5;28minput\u001b[39m(\u001b[38;5;124m\"\u001b[39m\u001b[38;5;124mHow old are you? \u001b[39m\u001b[38;5;124m\"\u001b[39m)\u001b[38;5;66;03m# \"20\"\u001b[39;00m\n\u001b[1;32m----> 4\u001b[0m age \u001b[38;5;241m=\u001b[39m \u001b[38;5;28;43mint\u001b[39;49m\u001b[43m(\u001b[49m\u001b[43mage\u001b[49m\u001b[43m)\u001b[49m \u001b[38;5;66;03m# 20\u001b[39;00m\n\u001b[0;32m      5\u001b[0m \u001b[38;5;28;01mif\u001b[39;00m age \u001b[38;5;241m>\u001b[39m\u001b[38;5;241m=\u001b[39m \u001b[38;5;241m18\u001b[39m:\n\u001b[0;32m      6\u001b[0m    \u001b[38;5;28mprint\u001b[39m(\u001b[38;5;124m'\u001b[39m\u001b[38;5;124myou can vote\u001b[39m\u001b[38;5;124m'\u001b[39m)\n",
      "\u001b[1;31mValueError\u001b[0m: invalid literal for int() with base 10: ''"
     ]
    }
   ],
   "source": [
    "#Using int() to Accept Numeric Input\n",
    "\n",
    "age = input(\"How old are you? \")# \"20\"\n",
    "age = int(age) # 20\n",
    "if age >= 18:\n",
    "   print('you can vote')\n"
   ]
  },
  {
   "cell_type": "code",
   "execution_count": 57,
   "id": "69128c4f",
   "metadata": {
    "tags": []
   },
   "outputs": [
    {
     "name": "stdout",
     "output_type": "stream",
     "text": [
      "grade a\n"
     ]
    }
   ],
   "source": [
    "score = input(\"Enter Score Grade:\")\n",
    "score = int(score) \n",
    "if score < 60:\n",
    "   print(\"Your grade is an F\")\n",
    "elif score < 70:\n",
    "   print(\"grade d\")\n",
    "elif score < 80:\n",
    "   print(\"grade c\")\n",
    "elif score < 90:\n",
    "   print(\"grade b\" )\n",
    "elif score <= 100:\n",
    "   print(\"grade a\")\n",
    "else:\n",
    "   print(\"wrong score\")"
   ]
  },
  {
   "cell_type": "code",
   "execution_count": 58,
   "id": "0e1e65bc",
   "metadata": {
    "tags": []
   },
   "outputs": [
    {
     "name": "stdout",
     "output_type": "stream",
     "text": [
      "1\n",
      "2\n",
      "3\n",
      "4\n",
      "5\n"
     ]
    }
   ],
   "source": [
    "# while Loops\n",
    "number = 1\n",
    "while number <= 5:\n",
    "   print(number)\n",
    "   number += 1"
   ]
  },
  {
   "cell_type": "code",
   "execution_count": 59,
   "id": "0614cf9a",
   "metadata": {
    "tags": []
   },
   "outputs": [
    {
     "name": "stdout",
     "output_type": "stream",
     "text": [
      "hi\n",
      "how are you\n",
      "quit\n"
     ]
    }
   ],
   "source": [
    "# Letting the User Choose When to Quit\n",
    "\n",
    "prompt = \"\\nTell me something, and I will repeat it back to you:\"\n",
    "prompt += \"\\nEnter 'quit' to end the program. \"\n",
    "\n",
    "message = \"\"\n",
    "while message != 'quit':\n",
    "   message = input(prompt)\n",
    "   print(message)\n"
   ]
  },
  {
   "cell_type": "code",
   "execution_count": 60,
   "id": "30f6ee9d",
   "metadata": {},
   "outputs": [
    {
     "name": "stdout",
     "output_type": "stream",
     "text": [
      "True\n"
     ]
    }
   ],
   "source": [
    "print('Ali' != 'Ahmed')\n"
   ]
  },
  {
   "cell_type": "code",
   "execution_count": 61,
   "id": "aea93894",
   "metadata": {
    "tags": []
   },
   "outputs": [
    {
     "name": "stdout",
     "output_type": "stream",
     "text": [
      "hello\n"
     ]
    }
   ],
   "source": [
    "# Using a Flag\n",
    "prompt = \"\\nTell me something, and I will repeat it back to you:\"\n",
    "prompt += \"\\nEnter 'quit' to end the program. \"\n",
    "\n",
    "active = True\n",
    "while active:\n",
    "   message = input(prompt)\n",
    "   if message == 'quit':\n",
    "       active = False\n",
    "   else:\n",
    "       print(message)"
   ]
  },
  {
   "cell_type": "code",
   "execution_count": 62,
   "id": "7d23de69",
   "metadata": {
    "tags": []
   },
   "outputs": [
    {
     "name": "stdout",
     "output_type": "stream",
     "text": [
      "I'd love to go to Hi !\n"
     ]
    }
   ],
   "source": [
    "#Using break to Exit a Loop\n",
    "\n",
    "prompt = \"\\nPlease enter the name of a city you have visited:\"\n",
    "prompt += \"\\n(Enter 'quit' when you are finished.) \"\n",
    "while True:\n",
    "    \n",
    "   city = input(prompt)\n",
    "   if city == 'quit':\n",
    "       break\n",
    "   else:\n",
    "       print(f\"I'd love to go to {city.title()}!\")\n",
    "\n"
   ]
  },
  {
   "cell_type": "code",
   "execution_count": 63,
   "id": "17898f8e",
   "metadata": {
    "tags": []
   },
   "outputs": [
    {
     "name": "stdout",
     "output_type": "stream",
     "text": [
      "1\n",
      "2\n",
      "3\n",
      "4\n",
      "5\n"
     ]
    }
   ],
   "source": [
    "#Avoiding Infinite Loops\n",
    "# right\n",
    "x = 1\n",
    "while x <= 5:\n",
    "   print(x)\n",
    "   x += 1"
   ]
  },
  {
   "cell_type": "code",
   "execution_count": null,
   "id": "cb10d957",
   "metadata": {
    "scrolled": true,
    "tags": []
   },
   "outputs": [],
   "source": [
    "# infinite loop\n",
    "x = 1\n",
    "while 1 <= 5:\n",
    "   print(x)"
   ]
  }
 ],
 "metadata": {
  "kernelspec": {
   "display_name": "Python 3",
   "language": "python",
   "name": "python3"
  },
  "language_info": {
   "codemirror_mode": {
    "name": "ipython",
    "version": 3
   },
   "file_extension": ".py",
   "mimetype": "text/x-python",
   "name": "python",
   "nbconvert_exporter": "python",
   "pygments_lexer": "ipython3",
   "version": "3.12.7"
  }
 },
 "nbformat": 4,
 "nbformat_minor": 5
}
