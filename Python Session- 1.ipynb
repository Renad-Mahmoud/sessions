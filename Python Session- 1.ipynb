{
 "cells": [
  {
   "cell_type": "markdown",
   "id": "e1aa6fd3",
   "metadata": {
    "editable": true,
    "slideshow": {
     "slide_type": ""
    },
    "tags": []
   },
   "source": [
    "# Python Sessions with DEPI - session 1"
   ]
  },
  {
   "cell_type": "markdown",
   "id": "27007459",
   "metadata": {},
   "source": [
    "### Print a message onto the screen:"
   ]
  },
  {
   "cell_type": "code",
   "execution_count": 1,
   "id": "6ea9a412",
   "metadata": {
    "tags": []
   },
   "outputs": [
    {
     "name": "stdout",
     "output_type": "stream",
     "text": [
      "Hello world!\n"
     ]
    }
   ],
   "source": [
    "print(\"Hello world!\")"
   ]
  },
  {
   "cell_type": "code",
   "execution_count": 2,
   "id": "c3fdc672",
   "metadata": {
    "tags": []
   },
   "outputs": [
    {
     "name": "stdout",
     "output_type": "stream",
     "text": [
      "Hello world!\n"
     ]
    }
   ],
   "source": [
    "print('Hello world!')"
   ]
  },
  {
   "cell_type": "code",
   "execution_count": null,
   "id": "ffa3ee4d",
   "metadata": {
    "tags": []
   },
   "outputs": [],
   "source": []
  },
  {
   "cell_type": "code",
   "execution_count": 4,
   "id": "9057c493",
   "metadata": {
    "tags": []
   },
   "outputs": [
    {
     "name": "stdout",
     "output_type": "stream",
     "text": [
      "'let's start\n"
     ]
    }
   ],
   "source": [
    "print(\"'let's start\")\n"
   ]
  },
  {
   "cell_type": "markdown",
   "id": "f5c15167",
   "metadata": {},
   "source": [
    "Single and duble quotes do the same job but in case you are printing a string with upstroph you should use the duble quotes like the code below "
   ]
  },
  {
   "cell_type": "code",
   "execution_count": 5,
   "id": "e2da4028",
   "metadata": {
    "tags": []
   },
   "outputs": [
    {
     "name": "stdout",
     "output_type": "stream",
     "text": [
      "let's start!.\n"
     ]
    }
   ],
   "source": [
    "\n",
    "print(\"let's start!.\")"
   ]
  },
  {
   "cell_type": "markdown",
   "id": "2bc9cf57",
   "metadata": {},
   "source": [
    "If you want to print a long string (in multiple lines) you should use the triple quotes \n"
   ]
  },
  {
   "cell_type": "code",
   "execution_count": 6,
   "id": "87b68498",
   "metadata": {
    "tags": []
   },
   "outputs": [
    {
     "name": "stdout",
     "output_type": "stream",
     "text": [
      "\n",
      "Hello world!\n",
      "My name is ali\n",
      "I am a python developer\n"
     ]
    }
   ],
   "source": [
    "print('''\n",
    "Hello world!\n",
    "My name is ali\n",
    "I am a python developer''')"
   ]
  },
  {
   "cell_type": "code",
   "execution_count": 7,
   "id": "f79bf3c2-f192-4305-ae1a-7a36bd304526",
   "metadata": {
    "tags": []
   },
   "outputs": [
    {
     "name": "stdout",
     "output_type": "stream",
     "text": [
      "1000\n"
     ]
    }
   ],
   "source": [
    "print(1000)"
   ]
  },
  {
   "cell_type": "code",
   "execution_count": 8,
   "id": "f4e58402-2104-4f8f-9698-5de54c94280b",
   "metadata": {
    "tags": []
   },
   "outputs": [
    {
     "name": "stdout",
     "output_type": "stream",
     "text": [
      "1000\n"
     ]
    }
   ],
   "source": [
    "print(\"1000\")"
   ]
  },
  {
   "cell_type": "markdown",
   "id": "7ed15638",
   "metadata": {},
   "source": [
    "### Variables and Simple Data Types\n",
    "Variables are containers for storing data values, Python has no command for declaring a variable, a variable is created the moment you first assign a value to it.\n"
   ]
  },
  {
   "cell_type": "code",
   "execution_count": 9,
   "id": "2fb912ab",
   "metadata": {
    "tags": []
   },
   "outputs": [
    {
     "name": "stdout",
     "output_type": "stream",
     "text": [
      "5\n",
      "John\n"
     ]
    }
   ],
   "source": [
    "x = 5\n",
    "y = \"John\"\n",
    "print(x)\n",
    "print(y)"
   ]
  },
  {
   "cell_type": "code",
   "execution_count": 10,
   "id": "af5ed9f9",
   "metadata": {},
   "outputs": [
    {
     "name": "stdout",
     "output_type": "stream",
     "text": [
      "y\n"
     ]
    }
   ],
   "source": [
    "print(\"y\")"
   ]
  },
  {
   "cell_type": "code",
   "execution_count": 11,
   "id": "0fc0477f-f1dc-4b4f-a0f6-c8ab819b0ed4",
   "metadata": {
    "tags": []
   },
   "outputs": [
    {
     "name": "stdout",
     "output_type": "stream",
     "text": [
      "5\n"
     ]
    }
   ],
   "source": [
    "print(x)"
   ]
  },
  {
   "cell_type": "markdown",
   "id": "70e73647",
   "metadata": {},
   "source": [
    "Variables do not need to be declared with any particular type, and can even change type after they have been set."
   ]
  },
  {
   "cell_type": "code",
   "execution_count": 12,
   "id": "64677d73",
   "metadata": {
    "tags": []
   },
   "outputs": [
    {
     "name": "stdout",
     "output_type": "stream",
     "text": [
      "Sally\n"
     ]
    }
   ],
   "source": [
    "x = 4       # x is of type int\n",
    "x = \"Sally\" # x is now of type str\n",
    "print(x)"
   ]
  },
  {
   "cell_type": "code",
   "execution_count": 13,
   "id": "57413b70-4601-4681-b731-f4eb3e4fb77d",
   "metadata": {
    "tags": []
   },
   "outputs": [
    {
     "name": "stdout",
     "output_type": "stream",
     "text": [
      "30\n"
     ]
    }
   ],
   "source": [
    "y = 10\n",
    "y = 20\n",
    "y = 30\n",
    "print(y)"
   ]
  },
  {
   "cell_type": "markdown",
   "id": "ae2c669f",
   "metadata": {},
   "source": [
    "### Variable Names\n",
    "A variable can have a short name (like x and y) or a more descriptive name (age, carname, total_volume). \n",
    "\n",
    "#### Rules for Python variables:\n",
    "* A variable name must start with a letter or the underscore character\n",
    "* A variable name cannot start with a number\n",
    "* A variable name can only contain alpha-numeric characters and underscores (A-z, 0-9, and _ )\n",
    "* Variable names are case-sensitive (age, Age and AGE are three different variables)\n"
   ]
  },
  {
   "cell_type": "code",
   "execution_count": 14,
   "id": "753603eb",
   "metadata": {},
   "outputs": [
    {
     "ename": "SyntaxError",
     "evalue": "invalid decimal literal (3143291269.py, line 11)",
     "output_type": "error",
     "traceback": [
      "\u001b[1;36m  Cell \u001b[1;32mIn[14], line 11\u001b[1;36m\u001b[0m\n\u001b[1;33m    2myvar = \"Ahmed\"\u001b[0m\n\u001b[1;37m    ^\u001b[0m\n\u001b[1;31mSyntaxError\u001b[0m\u001b[1;31m:\u001b[0m invalid decimal literal\n"
     ]
    }
   ],
   "source": [
    "#Legal variable names:\n",
    "\n",
    "myvar = \"Ahmed\"\n",
    "my_var = \"Ahmed\"\n",
    "_my_var = \"Ahmed\"\n",
    "myVar = \"Ahmed\"\n",
    "MYVAR = \"Ahmed\"\n",
    "myvar2 = \"Ahmed\"\n",
    "\n",
    "#Illegal variable names:\n",
    "2myvar = \"Ahmed\"\n",
    "my-var = \"Ahmed\"\n",
    "my var = \"Ahmed\"\n"
   ]
  },
  {
   "cell_type": "markdown",
   "id": "61809d62",
   "metadata": {},
   "source": [
    "Avoiding Name Errors When Using Variables\n",
    "\n",
    "You should write the variable name without any mistakes \n"
   ]
  },
  {
   "cell_type": "code",
   "execution_count": 15,
   "id": "c5cf52d8",
   "metadata": {
    "tags": []
   },
   "outputs": [
    {
     "name": "stdout",
     "output_type": "stream",
     "text": [
      "Hello Python\n"
     ]
    }
   ],
   "source": [
    "message = \"Hello Python\"\n",
    "print(message)"
   ]
  },
  {
   "cell_type": "markdown",
   "id": "fa6f8907",
   "metadata": {},
   "source": [
    "### Data Types - Strings\n",
    "A string is a series of characters. Anything inside quotes is considered a string in Python, and you can use single or double quotes around your strings\n"
   ]
  },
  {
   "cell_type": "code",
   "execution_count": 16,
   "id": "9a2b849e",
   "metadata": {
    "tags": []
   },
   "outputs": [],
   "source": [
    "name = \"Ali\""
   ]
  },
  {
   "cell_type": "markdown",
   "id": "87a0356d",
   "metadata": {},
   "source": [
    "Changing Case in a String with Methods"
   ]
  },
  {
   "cell_type": "code",
   "execution_count": 17,
   "id": "a44d9a18",
   "metadata": {
    "tags": []
   },
   "outputs": [
    {
     "name": "stdout",
     "output_type": "stream",
     "text": [
      "ALI\n",
      "ali\n"
     ]
    }
   ],
   "source": [
    "print(name.upper()) \n",
    "print(name.lower()) "
   ]
  },
  {
   "cell_type": "code",
   "execution_count": 18,
   "id": "e2457117",
   "metadata": {
    "tags": []
   },
   "outputs": [
    {
     "name": "stdout",
     "output_type": "stream",
     "text": [
      "Mahmoud Ali\n"
     ]
    }
   ],
   "source": [
    "first_name = \"Mahmoud\"\n",
    "last_name = \"Ali\"\n",
    "print(first_name,last_name)"
   ]
  },
  {
   "cell_type": "markdown",
   "id": "6046562a",
   "metadata": {},
   "source": [
    "To add a tab to your text, use the character combination \\t as shown  "
   ]
  },
  {
   "cell_type": "code",
   "execution_count": 19,
   "id": "e27c9b5a",
   "metadata": {
    "tags": []
   },
   "outputs": [
    {
     "name": "stdout",
     "output_type": "stream",
     "text": [
      "\tPython\n"
     ]
    }
   ],
   "source": [
    "print(\"\\tPython\")"
   ]
  },
  {
   "cell_type": "markdown",
   "id": "57095ffe",
   "metadata": {},
   "source": [
    "<code>\\n</code> means new line"
   ]
  },
  {
   "cell_type": "code",
   "execution_count": 20,
   "id": "9440f87f",
   "metadata": {
    "tags": []
   },
   "outputs": [
    {
     "name": "stdout",
     "output_type": "stream",
     "text": [
      "Languages:\n",
      "Python\n",
      "C\n",
      "JavaScript\n"
     ]
    }
   ],
   "source": [
    "print(\"Languages:\\nPython\\nC\\nJavaScript\")"
   ]
  },
  {
   "cell_type": "markdown",
   "id": "0f358a5c",
   "metadata": {},
   "source": [
    "String concatenation"
   ]
  },
  {
   "cell_type": "code",
   "execution_count": 21,
   "id": "23519c1b",
   "metadata": {
    "tags": []
   },
   "outputs": [
    {
     "name": "stdout",
     "output_type": "stream",
     "text": [
      "mahmoudhassan\n"
     ]
    }
   ],
   "source": [
    "print('mahmoud'+  'hassan')"
   ]
  },
  {
   "cell_type": "code",
   "execution_count": 22,
   "id": "aadcea46",
   "metadata": {
    "tags": []
   },
   "outputs": [
    {
     "name": "stdout",
     "output_type": "stream",
     "text": [
      "101\n"
     ]
    }
   ],
   "source": [
    "print(\"10\"+ \"1\")"
   ]
  },
  {
   "cell_type": "markdown",
   "id": "f904bb9c",
   "metadata": {},
   "source": [
    "### Fstring"
   ]
  },
  {
   "cell_type": "code",
   "execution_count": 23,
   "id": "7f29718a",
   "metadata": {
    "tags": []
   },
   "outputs": [
    {
     "name": "stdout",
     "output_type": "stream",
     "text": [
      "full_name HI mahmoud hassan !!!\n",
      "full_name2 mahmoud hassan\n",
      "full_name3  HI mahmoud hassan!!!\n"
     ]
    }
   ],
   "source": [
    "first_name = \"mahmoud\"\n",
    "last_name = \"hassan\"\n",
    "\n",
    "full_name = f\"HI {first_name} {last_name} !!!\"\n",
    "\n",
    "full_name2 = first_name  +\" \" +last_name\n",
    "full_name3 = \"HI\"+\" \" + first_name + ' ' + last_name + \"!!!\"\n",
    "print('full_name' ,full_name)\n",
    "print('full_name2' ,full_name2)\n",
    "print('full_name3 ',full_name3)\n",
    "\n"
   ]
  },
  {
   "cell_type": "markdown",
   "id": "4faa03be",
   "metadata": {},
   "source": [
    "### Data Types - Numbers"
   ]
  },
  {
   "cell_type": "markdown",
   "id": "041547e7",
   "metadata": {},
   "source": [
    "#### Integers"
   ]
  },
  {
   "cell_type": "code",
   "execution_count": 24,
   "id": "95c890cf",
   "metadata": {
    "tags": []
   },
   "outputs": [],
   "source": [
    "Number = 100\n",
    "num = 20"
   ]
  },
  {
   "cell_type": "markdown",
   "id": "2b897454",
   "metadata": {},
   "source": [
    "#### Floats\n",
    "Python calls any number with a decimal point a float"
   ]
  },
  {
   "cell_type": "code",
   "execution_count": 25,
   "id": "ce3e4a37",
   "metadata": {
    "tags": []
   },
   "outputs": [
    {
     "name": "stdout",
     "output_type": "stream",
     "text": [
      "0.6\n"
     ]
    }
   ],
   "source": [
    "print(0.1 + 0.5) "
   ]
  },
  {
   "cell_type": "code",
   "execution_count": 26,
   "id": "0c602f16",
   "metadata": {
    "tags": []
   },
   "outputs": [
    {
     "name": "stdout",
     "output_type": "stream",
     "text": [
      "5\n",
      "6\n",
      "8\n",
      "0.6666666666666666\n"
     ]
    }
   ],
   "source": [
    "print(2 + 3)\n",
    "print(2 * 3)\n",
    "print(2 ** 3)\n",
    "print(2 / 3)"
   ]
  },
  {
   "cell_type": "code",
   "execution_count": 27,
   "id": "64342933",
   "metadata": {
    "tags": []
   },
   "outputs": [
    {
     "name": "stdout",
     "output_type": "stream",
     "text": [
      "12\n"
     ]
    }
   ],
   "source": [
    "print((1+2)*4)"
   ]
  },
  {
   "cell_type": "code",
   "execution_count": 28,
   "id": "3040e7b4-1c49-4136-9ff7-b66d880a9158",
   "metadata": {
    "tags": []
   },
   "outputs": [
    {
     "name": "stdout",
     "output_type": "stream",
     "text": [
      "100.5\n"
     ]
    }
   ],
   "source": [
    "print(100 + 0.5)"
   ]
  },
  {
   "cell_type": "markdown",
   "id": "12a7d140",
   "metadata": {},
   "source": [
    "**Try It Yourself**\n",
    "Write addition, subtraction, multiplication, and division operations that each result in the number 8. \n",
    "Be sure to enclose your operations in print() calls to see the results. You should create four lines that look like this: print(5+3)\n"
   ]
  },
  {
   "cell_type": "markdown",
   "id": "f7c1f9eb",
   "metadata": {},
   "source": [
    "When you divide any two numbers, even if they are integers that result in a\n",
    "whole number, you’ll always get a float:\n",
    "4/2 ⇒ 2.0\n"
   ]
  },
  {
   "cell_type": "code",
   "execution_count": 29,
   "id": "2dcf1ff9",
   "metadata": {
    "tags": []
   },
   "outputs": [
    {
     "data": {
      "text/plain": [
       "2.0"
      ]
     },
     "execution_count": 29,
     "metadata": {},
     "output_type": "execute_result"
    }
   ],
   "source": [
    "4/2"
   ]
  },
  {
   "cell_type": "code",
   "execution_count": 30,
   "id": "63f21963",
   "metadata": {
    "tags": []
   },
   "outputs": [
    {
     "data": {
      "text/plain": [
       "3.0"
      ]
     },
     "execution_count": 30,
     "metadata": {},
     "output_type": "execute_result"
    }
   ],
   "source": [
    "1 + 2.0"
   ]
  },
  {
   "cell_type": "markdown",
   "id": "dde2cfda",
   "metadata": {},
   "source": [
    "Multiple Assignment\n",
    "You can assign values to more than one variable using just a single line. This can help shorten your programs and make them easier to read; you’ll use this technique most often when initializing a set of numbers. For example, here’s how you can initialize the variables x, y, and z\n"
   ]
  },
  {
   "cell_type": "code",
   "execution_count": 31,
   "id": "27d05668-8e67-4868-baa2-d50bcf7c1458",
   "metadata": {},
   "outputs": [],
   "source": [
    "x = 10\n",
    "y = 20\n",
    "z = 30"
   ]
  },
  {
   "cell_type": "code",
   "execution_count": 32,
   "id": "9032dbee",
   "metadata": {
    "tags": []
   },
   "outputs": [
    {
     "name": "stdout",
     "output_type": "stream",
     "text": [
      "2\n"
     ]
    }
   ],
   "source": [
    "x, y, z = 0, 1, 2\n",
    "print(z)"
   ]
  },
  {
   "cell_type": "code",
   "execution_count": 33,
   "id": "604d466c",
   "metadata": {},
   "outputs": [],
   "source": [
    "x = 1\n",
    "x = 10\n"
   ]
  },
  {
   "cell_type": "markdown",
   "id": "c4661119",
   "metadata": {},
   "source": [
    "#### Constants\n",
    "A constant is like a variable whose value stays the same throughout the life of a program. Python doesn’t have built-in constant types, but Python programmers use all capital letters to indicate a variable should be treated as a constant and never be changed:\n"
   ]
  },
  {
   "cell_type": "code",
   "execution_count": 34,
   "id": "500c08ce",
   "metadata": {
    "tags": []
   },
   "outputs": [
    {
     "name": "stdout",
     "output_type": "stream",
     "text": [
      "5000\n",
      "1\n"
     ]
    }
   ],
   "source": [
    "MAX_CONNECTIONS = 5000\n",
    "print(MAX_CONNECTIONS)\n",
    "\n",
    "MAX_CONNECTIONS = 1\n",
    "print(MAX_CONNECTIONS)\n"
   ]
  },
  {
   "cell_type": "markdown",
   "id": "c9a45998",
   "metadata": {},
   "source": [
    "#### Comments"
   ]
  },
  {
   "cell_type": "code",
   "execution_count": 35,
   "id": "56310c33",
   "metadata": {
    "tags": []
   },
   "outputs": [
    {
     "name": "stdout",
     "output_type": "stream",
     "text": [
      "Hello Python people!\n"
     ]
    }
   ],
   "source": [
    "# Say hello to everyone.\n",
    "print(\"Hello Python people!\")\n"
   ]
  },
  {
   "cell_type": "code",
   "execution_count": 36,
   "id": "085eda88",
   "metadata": {},
   "outputs": [
    {
     "data": {
      "text/plain": [
       "'\\nMy name is mahmoud ali\\nAge : 14\\nAddress : Egypt \\n'"
      ]
     },
     "execution_count": 36,
     "metadata": {},
     "output_type": "execute_result"
    }
   ],
   "source": [
    "'''\n",
    "My name is mahmoud ali\n",
    "Age : 14\n",
    "Address : Egypt \n",
    "'''\n"
   ]
  },
  {
   "cell_type": "code",
   "execution_count": 37,
   "id": "0d8fb036",
   "metadata": {
    "tags": []
   },
   "outputs": [
    {
     "name": "stdout",
     "output_type": "stream",
     "text": [
      "20\n"
     ]
    },
    {
     "ename": "TypeError",
     "evalue": "can only concatenate str (not \"int\") to str",
     "output_type": "error",
     "traceback": [
      "\u001b[1;31m---------------------------------------------------------------------------\u001b[0m",
      "\u001b[1;31mTypeError\u001b[0m                                 Traceback (most recent call last)",
      "Cell \u001b[1;32mIn[37], line 2\u001b[0m\n\u001b[0;32m      1\u001b[0m \u001b[38;5;28mprint\u001b[39m(\u001b[38;5;241m10\u001b[39m\u001b[38;5;241m+\u001b[39m\u001b[38;5;241m10\u001b[39m)\n\u001b[1;32m----> 2\u001b[0m \u001b[38;5;28mprint\u001b[39m(\u001b[38;5;124;43m\"\u001b[39;49m\u001b[38;5;124;43mAli\u001b[39;49m\u001b[38;5;124;43m\"\u001b[39;49m\u001b[38;5;241;43m+\u001b[39;49m\u001b[38;5;241;43m10\u001b[39;49m)\n",
      "\u001b[1;31mTypeError\u001b[0m: can only concatenate str (not \"int\") to str"
     ]
    }
   ],
   "source": [
    "print(10+10)\n",
    "print(\"Ali\"+10)\n"
   ]
  },
  {
   "cell_type": "code",
   "execution_count": 38,
   "id": "9df1e63a-839e-4d4f-bb12-d90d6e60cdc3",
   "metadata": {
    "tags": []
   },
   "outputs": [
    {
     "name": "stdout",
     "output_type": "stream",
     "text": [
      "Ali 10.5\n"
     ]
    }
   ],
   "source": [
    "name = \"Ali\"\n",
    "num = 10.5\n",
    "test = f\"{name} {num}\"\n",
    "print(test)"
   ]
  },
  {
   "cell_type": "markdown",
   "id": "e9fb612f",
   "metadata": {},
   "source": [
    "#### List\n"
   ]
  },
  {
   "cell_type": "code",
   "execution_count": 39,
   "id": "a7d50b1c",
   "metadata": {
    "tags": []
   },
   "outputs": [
    {
     "name": "stdout",
     "output_type": "stream",
     "text": [
      "['mahmoud', 'ali', 'ahmed', 'mohamed']\n"
     ]
    }
   ],
   "source": [
    "names = ['mahmoud', 'ali', 'ahmed', 'mohamed']\n",
    "\n",
    "\n",
    "my_list = ['mahmoud',20, 'ahmed', '300']\n",
    "print(names)"
   ]
  },
  {
   "cell_type": "markdown",
   "id": "632b1656",
   "metadata": {},
   "source": [
    "#### Accessing Elements in a List\n",
    "NOTE: Index Positions Start at 0, Not 1\n"
   ]
  },
  {
   "cell_type": "code",
   "execution_count": 40,
   "id": "471263d7",
   "metadata": {
    "tags": []
   },
   "outputs": [
    {
     "name": "stdout",
     "output_type": "stream",
     "text": [
      "mohamed\n"
     ]
    }
   ],
   "source": [
    "names = ['mahmoud', 'ali', 'ahmed', 'mohamed']\n",
    "print(names[3])"
   ]
  },
  {
   "cell_type": "code",
   "execution_count": 41,
   "id": "c2807d5f",
   "metadata": {
    "tags": []
   },
   "outputs": [
    {
     "name": "stdout",
     "output_type": "stream",
     "text": [
      "mohamed\n"
     ]
    }
   ],
   "source": [
    "#the last element in your list will have the index of -1\n",
    "print(names[-1])\n"
   ]
  },
  {
   "cell_type": "markdown",
   "id": "a6eda96e",
   "metadata": {},
   "source": [
    "#### Changing, Adding, and Removing Elements"
   ]
  },
  {
   "cell_type": "code",
   "execution_count": 42,
   "id": "6f1e8b54",
   "metadata": {
    "tags": []
   },
   "outputs": [
    {
     "name": "stdout",
     "output_type": "stream",
     "text": [
      "['mahmoud', 'ali', 'ahmed', 'mohamed']\n"
     ]
    }
   ],
   "source": [
    "# Modifying Elements in a List\n",
    "names = ['mahmoud', 'ali', 'ahmed', 'mohamed']\n",
    "print(names)"
   ]
  },
  {
   "cell_type": "code",
   "execution_count": 43,
   "id": "ae4c73fe",
   "metadata": {
    "tags": []
   },
   "outputs": [
    {
     "name": "stdout",
     "output_type": "stream",
     "text": [
      "['Max', 'ali', 'ahmed', 'mohamed']\n"
     ]
    }
   ],
   "source": [
    "names[0] = 'Max'\n",
    "print(names)"
   ]
  },
  {
   "cell_type": "code",
   "execution_count": 44,
   "id": "0f1767f3",
   "metadata": {
    "tags": []
   },
   "outputs": [
    {
     "name": "stdout",
     "output_type": "stream",
     "text": [
      "['Max', 'ali', 'ahmed', 'mohamed', 'Basma']\n"
     ]
    }
   ],
   "source": [
    "# Adding Elements to a List\n",
    "names.append('Basma')\n",
    "print(names)"
   ]
  },
  {
   "cell_type": "code",
   "execution_count": 45,
   "id": "6ebd222c-80ac-4ec1-9c13-d2899942b9b4",
   "metadata": {},
   "outputs": [
    {
     "name": "stdout",
     "output_type": "stream",
     "text": [
      "['Max', 'ali', 'Basma', 'ahmed', 'mohamed', 'Basma']\n"
     ]
    }
   ],
   "source": [
    "names.insert(2,'Basma')\n",
    "print(names)"
   ]
  },
  {
   "cell_type": "code",
   "execution_count": 46,
   "id": "b6e9365c",
   "metadata": {
    "tags": []
   },
   "outputs": [
    {
     "name": "stdout",
     "output_type": "stream",
     "text": [
      "['a', 'b', 'c']\n",
      "['Max', 'ali', 'Basma', 'ahmed', 'mohamed', 'Basma', ['a', 'b', 'c'], 'Ali', 'samer']\n"
     ]
    }
   ],
   "source": [
    "# You can append (add) any items to your empty list like:\n",
    "\n",
    "t1 = ['a', 'b', 'c']\n",
    "\n",
    "\n",
    "print(t1)\n",
    "\n",
    "names.append(t1)\n",
    "names.append('Ali')\n",
    "names.append('samer')\n",
    "print(names)\n"
   ]
  },
  {
   "cell_type": "code",
   "execution_count": 47,
   "id": "af2f87c5",
   "metadata": {
    "tags": []
   },
   "outputs": [
    {
     "name": "stdout",
     "output_type": "stream",
     "text": [
      "['a', 'b', 'c', 'd', 'e']\n"
     ]
    }
   ],
   "source": [
    "# extend takes a list as an argument and appends all of the elements:\n",
    "t1 = ['a', 'b', 'c']\n",
    "t2 = ['d', 'e']\n",
    "\n",
    "#t1.append(t2)\n",
    "t1.extend(t2)\n",
    "print(t1)"
   ]
  },
  {
   "cell_type": "code",
   "execution_count": 48,
   "id": "6f217409",
   "metadata": {
    "tags": []
   },
   "outputs": [
    {
     "name": "stdout",
     "output_type": "stream",
     "text": [
      "['honda', 'yamaha', 'ducati', 'suzuki']\n"
     ]
    }
   ],
   "source": [
    "# Inserting Elements into a List\n",
    "motorcycles = ['honda', 'yamaha', 'suzuki']\n",
    "\n",
    "motorcycles.insert(2, 'ducati')\n",
    "print(motorcycles)"
   ]
  },
  {
   "cell_type": "code",
   "execution_count": 49,
   "id": "b361abbb",
   "metadata": {
    "tags": []
   },
   "outputs": [
    {
     "name": "stdout",
     "output_type": "stream",
     "text": [
      "['yamaha', 'ducati', 'suzuki']\n"
     ]
    }
   ],
   "source": [
    "#Removing an Item Using the del Statement\n",
    "del motorcycles[0]\n",
    "print(motorcycles)\n"
   ]
  },
  {
   "cell_type": "code",
   "execution_count": 50,
   "id": "58c7577d",
   "metadata": {
    "tags": []
   },
   "outputs": [
    {
     "name": "stdout",
     "output_type": "stream",
     "text": [
      "mohamed\n",
      "['mahmoud', 'ali', 'ahmed']\n"
     ]
    }
   ],
   "source": [
    "# Removing an Item Using the pop() Method\n",
    "names = ['mahmoud', 'ali', 'ahmed', 'mohamed']\n",
    "\n",
    "popped_name = names.pop()\n",
    "print(popped_name)\n",
    "print(names)"
   ]
  },
  {
   "cell_type": "code",
   "execution_count": 51,
   "id": "dd933052",
   "metadata": {
    "tags": []
   },
   "outputs": [
    {
     "name": "stdout",
     "output_type": "stream",
     "text": [
      "honda\n",
      "['yamaha', 'suzuki']\n"
     ]
    }
   ],
   "source": [
    "motorcycles = ['honda', 'yamaha', 'suzuki']\n",
    "popped_motorcycle = motorcycles.pop(0)\n",
    "print(popped_motorcycle)\n",
    "print(motorcycles)"
   ]
  },
  {
   "cell_type": "code",
   "execution_count": 52,
   "id": "906fdf5e",
   "metadata": {
    "tags": []
   },
   "outputs": [
    {
     "name": "stdout",
     "output_type": "stream",
     "text": [
      "['mahmoud', 'ahmed', 'ali', 'mohamed']\n"
     ]
    }
   ],
   "source": [
    "# Removing an Item by Value\n",
    "names = ['mahmoud', 'ali', 'ahmed','ali' ,'mohamed']\n",
    "names.remove('ali')\n",
    "print(names)"
   ]
  },
  {
   "cell_type": "code",
   "execution_count": 53,
   "id": "a49373b5",
   "metadata": {
    "tags": []
   },
   "outputs": [
    {
     "name": "stdout",
     "output_type": "stream",
     "text": [
      "[1, 2, 3, 4, 5]\n"
     ]
    }
   ],
   "source": [
    "# Organizing a List\n",
    "numbers = [5, 3, 1, 4,2]\n",
    "numbers.sort()\n",
    "print(numbers)"
   ]
  },
  {
   "cell_type": "code",
   "execution_count": 54,
   "id": "3b55fb52",
   "metadata": {
    "tags": []
   },
   "outputs": [
    {
     "name": "stdout",
     "output_type": "stream",
     "text": [
      "[5, 4, 3, 2, 1]\n"
     ]
    }
   ],
   "source": [
    "numbers.reverse()\n",
    "print(numbers)"
   ]
  },
  {
   "cell_type": "markdown",
   "id": "46b3fca2",
   "metadata": {},
   "source": [
    "Notice that reverse() doesn’t sort backward."
   ]
  },
  {
   "cell_type": "code",
   "execution_count": 55,
   "id": "b64af9f5",
   "metadata": {
    "tags": []
   },
   "outputs": [
    {
     "name": "stdout",
     "output_type": "stream",
     "text": [
      "['ahmed', 'ali', 'mahmoud', 'mohamed']\n"
     ]
    }
   ],
   "source": [
    "#Sorting a list of strings\n",
    "\n",
    "names = ['mahmoud', 'ali', 'ahmed', 'mohamed']\n",
    "names.sort()\n",
    "print(names)"
   ]
  },
  {
   "cell_type": "code",
   "execution_count": 56,
   "id": "e449df97",
   "metadata": {
    "tags": []
   },
   "outputs": [
    {
     "name": "stdout",
     "output_type": "stream",
     "text": [
      "4\n"
     ]
    }
   ],
   "source": [
    "#Finding the Length of a List\n",
    "names = ['mahmoud', 'ali', 'ahmed', 'mohamed']\n",
    "print(len(names))"
   ]
  },
  {
   "cell_type": "code",
   "execution_count": null,
   "id": "35cf4938-c809-4ae2-b582-6ee54c5ed940",
   "metadata": {},
   "outputs": [],
   "source": []
  },
  {
   "cell_type": "code",
   "execution_count": 57,
   "id": "9802fb3d",
   "metadata": {
    "tags": []
   },
   "outputs": [
    {
     "name": "stdout",
     "output_type": "stream",
     "text": [
      "mohamed\n"
     ]
    }
   ],
   "source": [
    "# Avoiding Index Errors When Working with Lists\n",
    "\n",
    "names = ['mahmoud', 'ali', 'ahmed', 'mohamed']\n",
    "print(names[3])\n"
   ]
  },
  {
   "cell_type": "code",
   "execution_count": 58,
   "id": "c58852bc",
   "metadata": {
    "tags": []
   },
   "outputs": [
    {
     "name": "stdout",
     "output_type": "stream",
     "text": [
      "mahmoud\n",
      "ali\n",
      "ahmed\n",
      "mohamed\n"
     ]
    }
   ],
   "source": [
    "names = ['mahmoud', 'ali', 'ahmed', 'mohamed']\n",
    "print(names[0])\n",
    "print(names[1])\n",
    "print(names[2])\n",
    "print(names[3])"
   ]
  },
  {
   "cell_type": "code",
   "execution_count": 59,
   "id": "a7b333fe",
   "metadata": {
    "tags": []
   },
   "outputs": [
    {
     "name": "stdout",
     "output_type": "stream",
     "text": [
      "mahmoud\n",
      "ali\n",
      "ahmed\n",
      "mohamed\n"
     ]
    }
   ],
   "source": [
    "#Looping Through an Entire List\n",
    "names = ['mahmoud', 'ali', 'ahmed', 'mohamed']\n",
    "\n",
    "for name in names:\n",
    "    \n",
    "    print(name)\n"
   ]
  },
  {
   "cell_type": "code",
   "execution_count": 60,
   "id": "c9dab985",
   "metadata": {
    "tags": []
   },
   "outputs": [
    {
     "name": "stdout",
     "output_type": "stream",
     "text": [
      "mahmoud\n",
      "ali\n",
      "ahmed\n",
      "mohamed\n",
      "the end\n"
     ]
    }
   ],
   "source": [
    "#Doing Something After a for Loop\n",
    "names = ['mahmoud', 'ali', 'ahmed', 'mohamed']\n",
    "\n",
    "for name in names:\n",
    "    print(name)\n",
    "\n",
    "print('the end')"
   ]
  },
  {
   "cell_type": "code",
   "execution_count": null,
   "id": "35a0657c-6f5e-4cdc-a3b8-baf628ee1ced",
   "metadata": {},
   "outputs": [],
   "source": []
  },
  {
   "cell_type": "code",
   "execution_count": 61,
   "id": "2cbbb0d2",
   "metadata": {
    "tags": []
   },
   "outputs": [
    {
     "name": "stdout",
     "output_type": "stream",
     "text": [
      "[1, 2, 3, 4, 5, 6, 7, 8, 9, 10, 11, 12, 13, 14, 15, 16, 17, 18, 19]\n"
     ]
    }
   ],
   "source": [
    "# Making Numerical Lists \n",
    "numbers = list(range(1, 20)) \n",
    "print(numbers)"
   ]
  },
  {
   "cell_type": "code",
   "execution_count": 62,
   "id": "6e8afa7e",
   "metadata": {
    "tags": []
   },
   "outputs": [
    {
     "name": "stdout",
     "output_type": "stream",
     "text": [
      "[2, 4, 6, 8, 10]\n"
     ]
    }
   ],
   "source": [
    "even_numbers = list(range(2, 11, 2)) \n",
    "print(even_numbers)"
   ]
  },
  {
   "cell_type": "code",
   "execution_count": 63,
   "id": "ef949bb1-5322-40a9-b309-591099e53a53",
   "metadata": {
    "tags": []
   },
   "outputs": [
    {
     "name": "stdout",
     "output_type": "stream",
     "text": [
      "4\n"
     ]
    }
   ],
   "source": [
    "print(2**2)"
   ]
  },
  {
   "cell_type": "code",
   "execution_count": null,
   "id": "eb23df68-861d-452d-905c-b0462126003e",
   "metadata": {},
   "outputs": [],
   "source": []
  },
  {
   "cell_type": "code",
   "execution_count": 64,
   "id": "cb678bb0-a786-4c2f-92dc-d047ca8e748b",
   "metadata": {
    "tags": []
   },
   "outputs": [
    {
     "name": "stdout",
     "output_type": "stream",
     "text": [
      "1\n",
      "2\n",
      "3\n",
      "4\n",
      "5\n",
      "6\n",
      "7\n",
      "8\n",
      "9\n",
      "10\n"
     ]
    }
   ],
   "source": [
    "for number in range(1,11):\n",
    "    print(number)"
   ]
  },
  {
   "cell_type": "code",
   "execution_count": 65,
   "id": "1fc1474c",
   "metadata": {
    "tags": []
   },
   "outputs": [],
   "source": [
    "#Quiz \n",
    "# create a list of squares from 1 to 10 numbers\n",
    "\n",
    "#solution\n"
   ]
  },
  {
   "cell_type": "code",
   "execution_count": 66,
   "id": "48500f49",
   "metadata": {
    "tags": []
   },
   "outputs": [
    {
     "name": "stdout",
     "output_type": "stream",
     "text": [
      "[1, 4, 9, 16, 25, 36, 49, 64, 81, 100]\n"
     ]
    }
   ],
   "source": [
    "squares = []\n",
    "for number in range(1, 11): \n",
    "    squares.append(number ** 2)\n",
    "print(squares)"
   ]
  },
  {
   "cell_type": "code",
   "execution_count": 67,
   "id": "3698a69e",
   "metadata": {
    "tags": []
   },
   "outputs": [
    {
     "name": "stdout",
     "output_type": "stream",
     "text": [
      "0\n",
      "9\n",
      "45\n"
     ]
    }
   ],
   "source": [
    "# Simple Statistics with a List of Numbers\n",
    "\n",
    "digits = [1, 2, 3, 4, 5, 6, 7, 8, 9, 0]\n",
    "\n",
    "print(min(digits))\n",
    "\n",
    "print(max(digits))\n",
    "\n",
    "print(sum(digits))\n"
   ]
  },
  {
   "cell_type": "code",
   "execution_count": 68,
   "id": "4919b5c3",
   "metadata": {
    "tags": []
   },
   "outputs": [
    {
     "name": "stdout",
     "output_type": "stream",
     "text": [
      "[1, 4, 9, 16, 25, 36, 49, 64, 81, 100]\n"
     ]
    }
   ],
   "source": [
    "# List Comprehensions\n",
    "squares = [value**2 for value in range(1, 11)]\n",
    "print(squares)"
   ]
  },
  {
   "cell_type": "code",
   "execution_count": null,
   "id": "78c27359-ed59-4df8-980c-a05b4f9b3c27",
   "metadata": {},
   "outputs": [],
   "source": []
  },
  {
   "cell_type": "code",
   "execution_count": null,
   "id": "0d392951-eb80-46a4-865e-c038d6adf125",
   "metadata": {},
   "outputs": [],
   "source": []
  },
  {
   "cell_type": "code",
   "execution_count": null,
   "id": "e3c7c210-c26e-473f-aaef-34c15389f9ec",
   "metadata": {},
   "outputs": [],
   "source": []
  },
  {
   "cell_type": "code",
   "execution_count": 69,
   "id": "9b24d98b",
   "metadata": {
    "tags": []
   },
   "outputs": [
    {
     "name": "stdout",
     "output_type": "stream",
     "text": [
      "[1, 4, 9, 16, 25, 36, 49, 64, 81, 100]\n"
     ]
    }
   ],
   "source": [
    "squares = []\n",
    "for value in range(1, 11):\n",
    "      squares.append(value ** 2)\n",
    "\n",
    "print(squares)\n"
   ]
  },
  {
   "cell_type": "markdown",
   "id": "5902bf1e",
   "metadata": {},
   "source": [
    "\n",
    "**Try It Yourself**\n",
    "3.1 Guest List: If you could invite anyone, living or deceased, to dinner, who would you invite? \n",
    "Make a list that includes at least three people you’d like to invite to dinner. Then use your list to print a message to each person, inviting them to dinner. \n",
    "\n",
    "\n",
    "3.2 Changing Guest List: You just heard that one of your guests can’t make the dinner, so you need to send out a new set of invitations. You’ll have to think of someone else to invite. \n",
    "Start with your program from Exercise 3.1. Add a print() call at the end of your program stating the name of the guest who can’t make it. \n",
    "Modify your list, replacing the name of the guest who can’t make it with the name of the new person you are inviting. \n",
    "Print a second set of invitation messages, one for each person who is still in your list. \n",
    "\n",
    "\n",
    "3.3 More Guests: You just found a bigger dinner table, so now more space is available. Think of three more guests to invite to dinner.  \n",
    "\n",
    "\n",
    "Start with your program from Exercise 3.1 or Exercise 3.2. Add a print() call to the end of your program informing people that you found a bigger dinner table. \n",
    "Use insert() to add one new guest to the beginning of your list.\n",
    "\n",
    "\n",
    "Use insert() to add one new guest to the middle of your list. \n",
    "\n",
    "\n",
    "Use append() to add one new guest to the end of your list. \n",
    "\n",
    "\n",
    "Print a new set of invitation messages, one for each person in your list\n"
   ]
  },
  {
   "cell_type": "markdown",
   "id": "d56ced82",
   "metadata": {},
   "source": []
  }
 ],
 "metadata": {
  "kernelspec": {
   "display_name": "Python 3",
   "language": "python",
   "name": "python3"
  },
  "language_info": {
   "codemirror_mode": {
    "name": "ipython",
    "version": 3
   },
   "file_extension": ".py",
   "mimetype": "text/x-python",
   "name": "python",
   "nbconvert_exporter": "python",
   "pygments_lexer": "ipython3",
   "version": "3.12.7"
  }
 },
 "nbformat": 4,
 "nbformat_minor": 5
}
